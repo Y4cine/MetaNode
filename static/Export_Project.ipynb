{
 "cells": [
  {
   "cell_type": "code",
   "execution_count": 1,
   "id": "c06ea84d-4a74-4367-a923-7cc6fb8ff12c",
   "metadata": {},
   "outputs": [],
   "source": [
    "from pathlib import Path\n",
    "import pandas as pd\n",
    "import json\n",
    "import re\n",
    "import subprocess"
   ]
  },
  {
   "cell_type": "markdown",
   "id": "c632d61b-7e5d-4ee9-95fe-7ef5e43ff35e",
   "metadata": {},
   "source": [
    "# Export whole project to Markdown files for sharing with LLM\n",
    "- Specs_Todos\n",
    "- Project_Structure\n",
    "- Code_Base"
   ]
  },
  {
   "cell_type": "code",
   "execution_count": 2,
   "id": "c1ebbc35-e8b6-4164-a94f-dd992abaa448",
   "metadata": {},
   "outputs": [],
   "source": [
    "# Folders\n",
    "base_dir = Path('D:\\Entwicklung\\MetaNode')\n",
    "specs_dir = base_dir / \"specs\"\n",
    "static_dir = base_dir / \"static\""
   ]
  },
  {
   "cell_type": "code",
   "execution_count": 3,
   "id": "571a6bf6-31d8-4637-a25c-ac4c8f81fd7a",
   "metadata": {},
   "outputs": [],
   "source": [
    "# Sources\n",
    "specs_file = specs_dir / \"Specs_20250622.md\"\n",
    "todos_file = specs_dir / \"todos.md\"\n",
    "template_structure = static_dir / \"template_structure.md\"\n",
    "\n",
    "# Targets\n",
    "specs_todos = static_dir / \"1_Specs_Todos.md\"\n",
    "project_structure = static_dir / \"2_Project_Structure.md\"\n",
    "code_base = static_dir / \"3_Code_Base.md\"\n",
    "all_in_one = static_dir / \"0_All_in_one.md\""
   ]
  },
  {
   "cell_type": "code",
   "execution_count": 4,
   "id": "d6b8a6a1-7fba-4062-8607-4d34acde1b3d",
   "metadata": {},
   "outputs": [
    {
     "name": "stdout",
     "output_type": "stream",
     "text": [
      "True D:\\Entwicklung\\MetaNode\\static\\file_meta.xlsx\n"
     ]
    }
   ],
   "source": [
    "# Annotated file list\n",
    "xl_file = static_dir / 'file_meta.xlsx'\n",
    "xl_fullname = str(xl_file.resolve())\n",
    "print(xl_file.exists(), xl_fullname)"
   ]
  },
  {
   "cell_type": "markdown",
   "id": "a9d890d9-4128-4981-9513-f91da68dff47",
   "metadata": {},
   "source": [
    "## Creating \"Specs_Todos.md\""
   ]
  },
  {
   "cell_type": "code",
   "execution_count": 5,
   "id": "5693eab9-dbb3-4a6d-b092-7813873b61d1",
   "metadata": {},
   "outputs": [
    {
     "data": {
      "text/plain": [
       "5382"
      ]
     },
     "execution_count": 5,
     "metadata": {},
     "output_type": "execute_result"
    }
   ],
   "source": [
    "text_specs = specs_file.read_text(encoding='utf-8')\n",
    "text_todos = todos_file.read_text(encoding='utf-8')\n",
    "text = \"## Specifications\\n\"\n",
    "text += text_specs + '\\n\\n'\n",
    "text += \"## Todos\\n\"\n",
    "text += text_todos + '\\n'\n",
    "specs_todos.write_text(text, encoding ='utf-8')"
   ]
  },
  {
   "cell_type": "code",
   "execution_count": null,
   "id": "f1797b28-293d-4e49-a2b2-61a0090970be",
   "metadata": {},
   "outputs": [],
   "source": []
  },
  {
   "cell_type": "markdown",
   "id": "3decece5-6c0b-419f-a770-b1db87a154fe",
   "metadata": {},
   "source": [
    "## Creating \"Project_Structure.md\""
   ]
  },
  {
   "cell_type": "code",
   "execution_count": 6,
   "id": "1f99b164-e41b-4e79-b28e-4c5b99fb0dc6",
   "metadata": {},
   "outputs": [],
   "source": [
    "df0 = pd.read_excel(xl_fullname).fillna(\"\")\n",
    "df = df0[df0['include'] == 1]"
   ]
  },
  {
   "cell_type": "code",
   "execution_count": 7,
   "id": "a0e5eca5-e6f0-43d8-81df-67606d9973e7",
   "metadata": {},
   "outputs": [],
   "source": [
    "def get_relative_dir(filepath, base_dir):\n",
    "    try:\n",
    "        return Path(filepath).parent.relative_to(base_dir)\n",
    "    except ValueError:\n",
    "        return Path(filepath).parent  # ggf. .resolve() hinzufügen"
   ]
  },
  {
   "cell_type": "code",
   "execution_count": 8,
   "id": "f255baea-5225-4b39-b665-9e2d0dc17f88",
   "metadata": {},
   "outputs": [
    {
     "name": "stderr",
     "output_type": "stream",
     "text": [
      "C:\\Users\\gay5vi\\AppData\\Local\\Temp\\ipykernel_7740\\1739340866.py:1: SettingWithCopyWarning: \n",
      "A value is trying to be set on a copy of a slice from a DataFrame.\n",
      "Try using .loc[row_indexer,col_indexer] = value instead\n",
      "\n",
      "See the caveats in the documentation: https://pandas.pydata.org/pandas-docs/stable/user_guide/indexing.html#returning-a-view-versus-a-copy\n",
      "  df.loc[:, 'dir'] = df['filepath'].apply(lambda fp: str(Path(fp).parent))\n"
     ]
    }
   ],
   "source": [
    "df.loc[:, 'dir'] = df['filepath'].apply(lambda fp: str(Path(fp).parent))"
   ]
  },
  {
   "cell_type": "code",
   "execution_count": 9,
   "id": "e85e0712-2c59-416b-a612-33f011b9af64",
   "metadata": {},
   "outputs": [
    {
     "data": {
      "text/html": [
       "<div>\n",
       "<style scoped>\n",
       "    .dataframe tbody tr th:only-of-type {\n",
       "        vertical-align: middle;\n",
       "    }\n",
       "\n",
       "    .dataframe tbody tr th {\n",
       "        vertical-align: top;\n",
       "    }\n",
       "\n",
       "    .dataframe thead th {\n",
       "        text-align: right;\n",
       "    }\n",
       "</style>\n",
       "<table border=\"1\" class=\"dataframe\">\n",
       "  <thead>\n",
       "    <tr style=\"text-align: right;\">\n",
       "      <th></th>\n",
       "      <th>filepath</th>\n",
       "      <th>include</th>\n",
       "      <th>purpose</th>\n",
       "      <th>status</th>\n",
       "      <th>comment</th>\n",
       "      <th>dir</th>\n",
       "    </tr>\n",
       "  </thead>\n",
       "  <tbody>\n",
       "    <tr>\n",
       "      <th>4</th>\n",
       "      <td>core/undo_manager.py</td>\n",
       "      <td>1</td>\n",
       "      <td>Undo manager</td>\n",
       "      <td></td>\n",
       "      <td></td>\n",
       "      <td>core</td>\n",
       "    </tr>\n",
       "    <tr>\n",
       "      <th>13</th>\n",
       "      <td>models/node_model.py</td>\n",
       "      <td>1</td>\n",
       "      <td></td>\n",
       "      <td></td>\n",
       "      <td></td>\n",
       "      <td>models</td>\n",
       "    </tr>\n",
       "    <tr>\n",
       "      <th>30</th>\n",
       "      <td>schemas/chapter_meta.json</td>\n",
       "      <td>1</td>\n",
       "      <td></td>\n",
       "      <td></td>\n",
       "      <td></td>\n",
       "      <td>schemas</td>\n",
       "    </tr>\n",
       "  </tbody>\n",
       "</table>\n",
       "</div>"
      ],
      "text/plain": [
       "                     filepath  include       purpose status comment      dir\n",
       "4        core/undo_manager.py        1  Undo manager                    core\n",
       "13       models/node_model.py        1                                models\n",
       "30  schemas/chapter_meta.json        1                               schemas"
      ]
     },
     "execution_count": 9,
     "metadata": {},
     "output_type": "execute_result"
    }
   ],
   "source": [
    "df.sample(3)\n",
    "# df"
   ]
  },
  {
   "cell_type": "code",
   "execution_count": 10,
   "id": "df9a168b-546a-45f9-8fe0-f85d6aa1a286",
   "metadata": {},
   "outputs": [
    {
     "data": {
      "text/plain": [
       "array(['.', 'core', 'models', 'resources', 'schemas', 'ui', 'widgets'],\n",
       "      dtype=object)"
      ]
     },
     "execution_count": 10,
     "metadata": {},
     "output_type": "execute_result"
    }
   ],
   "source": [
    "dirs = df['dir'].astype('str').unique()\n",
    "dirs"
   ]
  },
  {
   "cell_type": "code",
   "execution_count": 11,
   "id": "af4a6cb4-b3a9-4cf2-866f-3d0379be9e84",
   "metadata": {},
   "outputs": [],
   "source": [
    "def get_files_report(d):\n",
    "    files = df[df['dir'] == d][['filepath', 'purpose', 'status', 'comment']]\n",
    "    files_list = []\n",
    "    for _,row in files.iterrows():\n",
    "        dict_ = row.to_dict()\n",
    "        text_list = []\n",
    "        for k,v in row.items():\n",
    "            if v:\n",
    "                t = k + ': ' + '\"' + str(v) + '\"'\n",
    "                text_list.append(t)\n",
    "        text = '{' + ', '.join(text_list) + '}'\n",
    "        files_list.append('- ' + text)\n",
    "    files_text = '\\n'.join(files_list)\n",
    "    return files_text"
   ]
  },
  {
   "cell_type": "code",
   "execution_count": 12,
   "id": "18da77b1-9822-4ed8-b648-c28162f849c4",
   "metadata": {},
   "outputs": [
    {
     "name": "stdout",
     "output_type": "stream",
     "text": [
      "- {filepath: \"ui/content_panel_view.py\"}\n",
      "- {filepath: \"ui/main_window.py\", purpose: \"Main module, called by main.\"}\n",
      "- {filepath: \"ui/node_editor_panel.py\"}\n",
      "- {filepath: \"ui/tree_view.py\"}\n"
     ]
    }
   ],
   "source": [
    "print(get_files_report('ui'))"
   ]
  },
  {
   "cell_type": "code",
   "execution_count": 13,
   "id": "ae9e2d97-d95d-4fcf-a3d8-d776739fc9b1",
   "metadata": {},
   "outputs": [
    {
     "data": {
      "text/plain": [
       "2175"
      ]
     },
     "execution_count": 13,
     "metadata": {},
     "output_type": "execute_result"
    }
   ],
   "source": [
    "text = template_structure.read_text(encoding='utf-8')\n",
    "\n",
    "for dir_ in dirs:\n",
    "    to_insert = get_files_report(dir_)\n",
    "    to_insert = '**Dateien:**\\n' + to_insert\n",
    "    pattern = re.compile(rf\"\\{{{dir_}\\}}\")\n",
    "    text = pattern.sub(to_insert, text)\n",
    "project_structure.write_text(text, encoding='utf-8')"
   ]
  },
  {
   "cell_type": "markdown",
   "id": "6077c0a4-809d-4de1-89e4-122ddc68a38d",
   "metadata": {},
   "source": [
    "## Creating \"Code_Base.md\""
   ]
  },
  {
   "cell_type": "code",
   "execution_count": 14,
   "id": "624c9a98-a1eb-49fb-b1c9-2dcd41852ff1",
   "metadata": {},
   "outputs": [
    {
     "ename": "FileNotFoundError",
     "evalue": "[Errno 2] No such file or directory: 'D:\\\\Entwicklung\\\\MetaNode\\\\widgets\\\\content_panel_view.py'",
     "output_type": "error",
     "traceback": [
      "\u001b[1;31m---------------------------------------------------------------------------\u001b[0m",
      "\u001b[1;31mFileNotFoundError\u001b[0m                         Traceback (most recent call last)",
      "Cell \u001b[1;32mIn[14], line 5\u001b[0m\n\u001b[0;32m      3\u001b[0m     filepath \u001b[38;5;241m=\u001b[39m row[\u001b[38;5;124m'\u001b[39m\u001b[38;5;124mfilepath\u001b[39m\u001b[38;5;124m'\u001b[39m]\n\u001b[0;32m      4\u001b[0m     file \u001b[38;5;241m=\u001b[39m base_dir \u001b[38;5;241m/\u001b[39m filepath\n\u001b[1;32m----> 5\u001b[0m     file_text \u001b[38;5;241m=\u001b[39m file\u001b[38;5;241m.\u001b[39mread_text(encoding\u001b[38;5;241m=\u001b[39m\u001b[38;5;124m'\u001b[39m\u001b[38;5;124mutf-8\u001b[39m\u001b[38;5;124m'\u001b[39m)\n\u001b[0;32m      6\u001b[0m     text \u001b[38;5;241m+\u001b[39m\u001b[38;5;241m=\u001b[39m \u001b[38;5;124m'\u001b[39m\u001b[38;5;124m**\u001b[39m\u001b[38;5;124m'\u001b[39m \u001b[38;5;241m+\u001b[39m filepath \u001b[38;5;241m+\u001b[39m \u001b[38;5;124m'\u001b[39m\u001b[38;5;124m:**\u001b[39m\u001b[38;5;130;01m\\n\u001b[39;00m\u001b[38;5;130;01m\\n\u001b[39;00m\u001b[38;5;124m'\u001b[39m \u001b[38;5;241m+\u001b[39m file_text \u001b[38;5;241m+\u001b[39m \u001b[38;5;124m'\u001b[39m\u001b[38;5;124m---\u001b[39m\u001b[38;5;130;01m\\n\u001b[39;00m\u001b[38;5;130;01m\\n\u001b[39;00m\u001b[38;5;124m'\u001b[39m\n\u001b[0;32m      7\u001b[0m code_base\u001b[38;5;241m.\u001b[39mwrite_text(text, encoding\u001b[38;5;241m=\u001b[39m\u001b[38;5;124m'\u001b[39m\u001b[38;5;124mutf-8\u001b[39m\u001b[38;5;124m'\u001b[39m)\n",
      "File \u001b[1;32md:\\miniconda3\\envs\\YG1\\Lib\\pathlib.py:1058\u001b[0m, in \u001b[0;36mPath.read_text\u001b[1;34m(self, encoding, errors)\u001b[0m\n\u001b[0;32m   1054\u001b[0m \u001b[38;5;250m\u001b[39m\u001b[38;5;124;03m\"\"\"\u001b[39;00m\n\u001b[0;32m   1055\u001b[0m \u001b[38;5;124;03mOpen the file in text mode, read it, and close the file.\u001b[39;00m\n\u001b[0;32m   1056\u001b[0m \u001b[38;5;124;03m\"\"\"\u001b[39;00m\n\u001b[0;32m   1057\u001b[0m encoding \u001b[38;5;241m=\u001b[39m io\u001b[38;5;241m.\u001b[39mtext_encoding(encoding)\n\u001b[1;32m-> 1058\u001b[0m \u001b[38;5;28;01mwith\u001b[39;00m \u001b[38;5;28mself\u001b[39m\u001b[38;5;241m.\u001b[39mopen(mode\u001b[38;5;241m=\u001b[39m\u001b[38;5;124m'\u001b[39m\u001b[38;5;124mr\u001b[39m\u001b[38;5;124m'\u001b[39m, encoding\u001b[38;5;241m=\u001b[39mencoding, errors\u001b[38;5;241m=\u001b[39merrors) \u001b[38;5;28;01mas\u001b[39;00m f:\n\u001b[0;32m   1059\u001b[0m     \u001b[38;5;28;01mreturn\u001b[39;00m f\u001b[38;5;241m.\u001b[39mread()\n",
      "File \u001b[1;32md:\\miniconda3\\envs\\YG1\\Lib\\pathlib.py:1044\u001b[0m, in \u001b[0;36mPath.open\u001b[1;34m(self, mode, buffering, encoding, errors, newline)\u001b[0m\n\u001b[0;32m   1042\u001b[0m \u001b[38;5;28;01mif\u001b[39;00m \u001b[38;5;124m\"\u001b[39m\u001b[38;5;124mb\u001b[39m\u001b[38;5;124m\"\u001b[39m \u001b[38;5;129;01mnot\u001b[39;00m \u001b[38;5;129;01min\u001b[39;00m mode:\n\u001b[0;32m   1043\u001b[0m     encoding \u001b[38;5;241m=\u001b[39m io\u001b[38;5;241m.\u001b[39mtext_encoding(encoding)\n\u001b[1;32m-> 1044\u001b[0m \u001b[38;5;28;01mreturn\u001b[39;00m io\u001b[38;5;241m.\u001b[39mopen(\u001b[38;5;28mself\u001b[39m, mode, buffering, encoding, errors, newline)\n",
      "\u001b[1;31mFileNotFoundError\u001b[0m: [Errno 2] No such file or directory: 'D:\\\\Entwicklung\\\\MetaNode\\\\widgets\\\\content_panel_view.py'"
     ]
    }
   ],
   "source": [
    "text = ''\n",
    "for _,row in df.iterrows():\n",
    "    filepath = row['filepath']\n",
    "    file = base_dir / filepath\n",
    "    file_text = file.read_text(encoding='utf-8')\n",
    "    text += '**' + filepath + ':**\\n\\n' + file_text + '---\\n\\n'\n",
    "code_base.write_text(text, encoding='utf-8')"
   ]
  },
  {
   "cell_type": "markdown",
   "id": "97c6af7a-8cce-4a54-aff2-7aedf8edb444",
   "metadata": {},
   "source": [
    "## Creating \"All_in_one.md\""
   ]
  },
  {
   "cell_type": "code",
   "execution_count": null,
   "id": "5f7c78e0-89a7-445f-952f-1e68476da8e2",
   "metadata": {},
   "outputs": [
    {
     "data": {
      "text/plain": [
       "70078"
      ]
     },
     "execution_count": 46,
     "metadata": {},
     "output_type": "execute_result"
    }
   ],
   "source": [
    "text = ''\n",
    "for file in [specs_todos, project_structure, code_base]:\n",
    "    text += file.read_text(encoding='utf-8') + '---\\n\\n'\n",
    "all_in_one.write_text(text, encoding='utf-8')"
   ]
  },
  {
   "cell_type": "code",
   "execution_count": null,
   "id": "02618cf7",
   "metadata": {},
   "outputs": [],
   "source": []
  }
 ],
 "metadata": {
  "kernelspec": {
   "display_name": "YG1",
   "language": "python",
   "name": "python3"
  },
  "language_info": {
   "codemirror_mode": {
    "name": "ipython",
    "version": 3
   },
   "file_extension": ".py",
   "mimetype": "text/x-python",
   "name": "python",
   "nbconvert_exporter": "python",
   "pygments_lexer": "ipython3",
   "version": "3.11.3"
  }
 },
 "nbformat": 4,
 "nbformat_minor": 5
}
